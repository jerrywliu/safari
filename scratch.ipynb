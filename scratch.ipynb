{
 "cells": [
  {
   "cell_type": "code",
   "execution_count": 1,
   "metadata": {},
   "outputs": [],
   "source": [
    "from src.models.sequence.hyena_seq import FNOBaseline\n",
    "from src.dataloaders.icl_pde import PDEDataModule\n",
    "import torch"
   ]
  },
  {
   "cell_type": "code",
   "execution_count": 2,
   "metadata": {},
   "outputs": [
    {
     "name": "stdout",
     "output_type": "stream",
     "text": [
      "Reading file:\n",
      "Read file\n",
      "Train tensor shape: torch.Size([64, 201, 1024])\n",
      "ICL train examples shape: torch.Size([64, 40, 1024])\n"
     ]
    }
   ],
   "source": [
    "dataset = PDEDataModule(\n",
    "    num_examples=64,\n",
    "    num_test_examples=64,\n",
    "    num_initial_conditions=20,\n",
    "    pde=\"1d_burgers_icl_t2\",\n",
    "    data_dir=\"/usr/xtmp/jwl50/PDEBench/data/\",\n",
    "    file_name=\"1D/Burgers/Train/1D_Burgers_Sols_Nu0.1.hdf5\",\n",
    ")\n",
    "dataset.setup()\n",
    "data_train = dataset.train_dataloader()"
   ]
  },
  {
   "cell_type": "code",
   "execution_count": 3,
   "metadata": {},
   "outputs": [],
   "source": [
    "for data in data_train:\n",
    "    x,y,z = data\n",
    "    break"
   ]
  },
  {
   "cell_type": "code",
   "execution_count": 4,
   "metadata": {},
   "outputs": [
    {
     "name": "stdout",
     "output_type": "stream",
     "text": [
      "x: torch.Size([32, 39, 1024])\n",
      "y: torch.Size([32, 39, 1024])\n",
      "z: torch.Size([32])\n"
     ]
    }
   ],
   "source": [
    "print(f\"x: {x.shape}\")\n",
    "print(f\"y: {y.shape}\")\n",
    "print(f\"z: {z.shape}\")"
   ]
  },
  {
   "cell_type": "code",
   "execution_count": 9,
   "metadata": {},
   "outputs": [
    {
     "data": {
      "text/plain": [
       "tensor(True)"
      ]
     },
     "execution_count": 9,
     "metadata": {},
     "output_type": "execute_result"
    }
   ],
   "source": [
    "# Verify that x[:, 1:, :] = y[:, :-1, :]\n",
    "torch.all(x[:, 1:, :] == y[:, :-1, :])"
   ]
  },
  {
   "cell_type": "code",
   "execution_count": 5,
   "metadata": {},
   "outputs": [],
   "source": [
    "model = FNOBaseline(\n",
    "    d_model=1024,\n",
    "    dropout=0.1,\n",
    ")"
   ]
  },
  {
   "cell_type": "code",
   "execution_count": 6,
   "metadata": {},
   "outputs": [
    {
     "name": "stdout",
     "output_type": "stream",
     "text": [
      "pos: torch.Size([32, 1024])\n",
      "cuda:0\n"
     ]
    }
   ],
   "source": [
    "pos = model.positional(z)\n",
    "print(f\"pos: {pos.shape}\")\n",
    "print(pos.device)"
   ]
  },
  {
   "cell_type": "code",
   "execution_count": 7,
   "metadata": {},
   "outputs": [
    {
     "name": "stdout",
     "output_type": "stream",
     "text": [
      "f_out: torch.Size([32, 20, 1024])\n"
     ]
    }
   ],
   "source": [
    "model.to(\"cuda\")\n",
    "f_out, _ = model(x.cuda(), z.cuda())\n",
    "print(f\"f_out: {f_out.shape}\")"
   ]
  },
  {
   "cell_type": "code",
   "execution_count": 10,
   "metadata": {},
   "outputs": [
    {
     "name": "stdout",
     "output_type": "stream",
     "text": [
      "c: torch.Size([32, 20, 1024])\n"
     ]
    }
   ],
   "source": [
    "c = torch.cumsum(f_out, dim=1)\n",
    "print(f\"c: {c.shape}\")"
   ]
  },
  {
   "cell_type": "code",
   "execution_count": 16,
   "metadata": {},
   "outputs": [
    {
     "data": {
      "text/plain": [
       "tensor([[[-0.0341, -0.0668, -0.0340,  ..., -0.0467, -0.0352, -0.0471],\n",
       "         [-0.0339, -0.0705, -0.0339,  ..., -0.0459, -0.0359, -0.0462],\n",
       "         [-0.0339, -0.0720, -0.0339,  ..., -0.0455, -0.0363, -0.0459],\n",
       "         ...,\n",
       "         [-0.0407, -0.0847, -0.0406,  ..., -0.0558, -0.0451, -0.0563],\n",
       "         [-0.0405, -0.0862, -0.0404,  ..., -0.0550, -0.0452, -0.0555],\n",
       "         [-0.0411, -0.0906, -0.0410,  ..., -0.0540, -0.0468, -0.0545]],\n",
       "\n",
       "        [[-0.0370, -0.1131, -0.0370,  ..., -0.1041, -0.0370, -0.1065],\n",
       "         [-0.0490, -0.1565, -0.0490,  ..., -0.1455, -0.0490, -0.1486],\n",
       "         [-0.1095, -0.2426, -0.1098,  ..., -0.2315, -0.1094, -0.2347],\n",
       "         ...,\n",
       "         [-0.0636, -0.1569, -0.0638,  ..., -0.1467, -0.0634, -0.1500],\n",
       "         [-0.0626, -0.1504, -0.0628,  ..., -0.1407, -0.0625, -0.1439],\n",
       "         [-0.0615, -0.1447, -0.0618,  ..., -0.1355, -0.0614, -0.1385]],\n",
       "\n",
       "        [[-0.0371, -0.1133, -0.0371,  ..., -0.0348, -0.0396, -0.0344],\n",
       "         [-0.0361, -0.0855, -0.0360,  ..., -0.0384, -0.0443, -0.0377],\n",
       "         [-0.0357, -0.0768, -0.0356,  ..., -0.0396, -0.0458, -0.0387],\n",
       "         ...,\n",
       "         [-0.0597, -0.1454, -0.0598,  ..., -0.0468, -0.0472, -0.0474],\n",
       "         [-0.0605, -0.1502, -0.0608,  ..., -0.0466, -0.0465, -0.0473],\n",
       "         [-0.0636, -0.1580, -0.0638,  ..., -0.0475, -0.0463, -0.0484]],\n",
       "\n",
       "        ...,\n",
       "\n",
       "        [[-0.0351, -0.0577, -0.0349,  ..., -0.0338, -0.0351, -0.0339],\n",
       "         [-0.0574, -0.1502, -0.0580,  ..., -0.0693, -0.0571, -0.0672],\n",
       "         [-0.0556, -0.1582, -0.0560,  ..., -0.0689, -0.0554, -0.0663],\n",
       "         ...,\n",
       "         [-0.0482, -0.1310, -0.0483,  ..., -0.0580, -0.0482, -0.0558],\n",
       "         [-0.0537, -0.1422, -0.0538,  ..., -0.0651, -0.0536, -0.0626],\n",
       "         [-0.0527, -0.1386, -0.0528,  ..., -0.0635, -0.0527, -0.0611]],\n",
       "\n",
       "        [[-0.0843, -0.2505, -0.0849,  ..., -0.1850, -0.0385, -0.1936],\n",
       "         [-0.1030, -0.2787, -0.1028,  ..., -0.2144, -0.0447, -0.2221],\n",
       "         [-0.0800, -0.2086, -0.0798,  ..., -0.1574, -0.0442, -0.1639],\n",
       "         ...,\n",
       "         [-0.0517, -0.1313, -0.0515,  ..., -0.0951, -0.0433, -0.0990],\n",
       "         [-0.0510, -0.1265, -0.0509,  ..., -0.0918, -0.0439, -0.0955],\n",
       "         [-0.0525, -0.1323, -0.0524,  ..., -0.0960, -0.0435, -0.1000]],\n",
       "\n",
       "        [[-0.0371, -0.1134, -0.0371,  ..., -0.0408, -0.0341, -0.0371],\n",
       "         [-0.0539, -0.1675, -0.0535,  ..., -0.0373, -0.0442, -0.0539],\n",
       "         [-0.0632, -0.1940, -0.0635,  ..., -0.0362, -0.0498, -0.0632],\n",
       "         ...,\n",
       "         [-0.0539, -0.1561, -0.0542,  ..., -0.0400, -0.0451, -0.0539],\n",
       "         [-0.0538, -0.1571, -0.0541,  ..., -0.0398, -0.0450, -0.0538],\n",
       "         [-0.0530, -0.1549, -0.0532,  ..., -0.0398, -0.0444, -0.0530]]],\n",
       "       device='cuda:0', grad_fn=<DivBackward0>)"
      ]
     },
     "execution_count": 16,
     "metadata": {},
     "output_type": "execute_result"
    }
   ],
   "source": [
    "c2 = torch.arange(1, c.shape[1]+1, device=c.device)\n",
    "c / c2[None, :, None]"
   ]
  },
  {
   "cell_type": "code",
   "execution_count": null,
   "metadata": {},
   "outputs": [],
   "source": [
    "import math\n",
    "d_model=1024\n",
    "r = torch.arange(1, d_model//2+1)\n",
    "temp = (-math.log(10000.0) / r)\n",
    "z2 = z.unsqueeze(-1).repeat(*([1]*len(z.shape)), d_model//2).float()\n",
    "div_term = z.unsqueeze(-1).repeat(*([1]*len(z.shape)), d_model//2).float()\n",
    "div_term[..., :] *= temp\n",
    "div_term = torch.exp(div_term)\n",
    "pe = torch.zeros(*z.shape, d_model)\n",
    "pe[..., 0::2] = torch.sin(z2 * div_term)\n",
    "pe[..., 1::2] = torch.cos(z2 * div_term)\n",
    "# pe[, :] *= z\n",
    "pe\n",
    "# temp.repeat(*z.shape, 1)\n",
    "# print(temp.shape)\n",
    "# print((z*temp).shape)\n",
    "# div_term = torch.exp(z * (-math.log(10000.0) / (d_model/2)))\n",
    "# print(div_term.shape)\n",
    "# print(z.shape)\n",
    "# pe = torch.zeros(*z.shape, d_model)\n",
    "# print(pe.shape)\n",
    "# pe[..., 0::2] = torch.sin(z * div_term)\n",
    "# pe[..., 1::2] = torch.cos(z * div_term)"
   ]
  },
  {
   "cell_type": "code",
   "execution_count": null,
   "metadata": {},
   "outputs": [],
   "source": []
  }
 ],
 "metadata": {
  "kernelspec": {
   "display_name": "Python 3 (ipykernel)",
   "language": "python",
   "name": "python3"
  },
  "language_info": {
   "codemirror_mode": {
    "name": "ipython",
    "version": 3
   },
   "file_extension": ".py",
   "mimetype": "text/x-python",
   "name": "python",
   "nbconvert_exporter": "python",
   "pygments_lexer": "ipython3",
   "version": "3.10.9"
  }
 },
 "nbformat": 4,
 "nbformat_minor": 2
}
