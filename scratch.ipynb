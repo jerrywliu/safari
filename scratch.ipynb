{
 "cells": [
  {
   "cell_type": "code",
   "execution_count": 1,
   "metadata": {},
   "outputs": [],
   "source": [
    "from src.models.sequence.hyena_seq import FNOBaseline\n",
    "from src.dataloaders.icl_pde import PDEDataModule\n",
    "import torch"
   ]
  },
  {
   "cell_type": "code",
   "execution_count": 2,
   "metadata": {},
   "outputs": [
    {
     "name": "stdout",
     "output_type": "stream",
     "text": [
      "Train tensor shape: torch.Size([64, 201, 1024])\n",
      "ICL train examples shape: torch.Size([64, 40, 1024])\n"
     ]
    }
   ],
   "source": [
    "dataset = PDEDataModule(\n",
    "    num_examples=64,\n",
    "    num_test_examples=64,\n",
    "    num_initial_conditions=20,\n",
    "    pde=\"1d_burgers_icl_t2\",\n",
    "    data_dir=\"/usr/xtmp/jwl50/PDEBench/data/\",\n",
    "    file_name=\"1D/Burgers/Train/1D_Burgers_Sols_Nu0.1.hdf5\",\n",
    ")\n",
    "dataset.setup()\n",
    "data_train = dataset.train_dataloader()"
   ]
  },
  {
   "cell_type": "code",
   "execution_count": 3,
   "metadata": {},
   "outputs": [],
   "source": [
    "for data in data_train:\n",
    "    x,y,z = data\n",
    "    break"
   ]
  },
  {
   "cell_type": "code",
   "execution_count": 4,
   "metadata": {},
   "outputs": [],
   "source": [
    "model = FNOBaseline(\n",
    "    d_model=1024,\n",
    "    dropout=0.1,\n",
    ")"
   ]
  },
  {
   "cell_type": "code",
   "execution_count": 5,
   "metadata": {},
   "outputs": [
    {
     "data": {
      "text/plain": [
       "torch.Size([32, 1024])"
      ]
     },
     "execution_count": 5,
     "metadata": {},
     "output_type": "execute_result"
    }
   ],
   "source": [
    "model.positional(z).shape"
   ]
  },
  {
   "cell_type": "code",
   "execution_count": null,
   "metadata": {},
   "outputs": [],
   "source": [
    "model(x, z)"
   ]
  },
  {
   "cell_type": "code",
   "execution_count": null,
   "metadata": {},
   "outputs": [],
   "source": [
    "import math\n",
    "d_model=1024\n",
    "r = torch.arange(1, d_model//2+1)\n",
    "temp = (-math.log(10000.0) / r)\n",
    "z2 = z.unsqueeze(-1).repeat(*([1]*len(z.shape)), d_model//2).float()\n",
    "div_term = z.unsqueeze(-1).repeat(*([1]*len(z.shape)), d_model//2).float()\n",
    "div_term[..., :] *= temp\n",
    "div_term = torch.exp(div_term)\n",
    "pe = torch.zeros(*z.shape, d_model)\n",
    "pe[..., 0::2] = torch.sin(z2 * div_term)\n",
    "pe[..., 1::2] = torch.cos(z2 * div_term)\n",
    "# pe[, :] *= z\n",
    "pe\n",
    "# temp.repeat(*z.shape, 1)\n",
    "# print(temp.shape)\n",
    "# print((z*temp).shape)\n",
    "# div_term = torch.exp(z * (-math.log(10000.0) / (d_model/2)))\n",
    "# print(div_term.shape)\n",
    "# print(z.shape)\n",
    "# pe = torch.zeros(*z.shape, d_model)\n",
    "# print(pe.shape)\n",
    "# pe[..., 0::2] = torch.sin(z * div_term)\n",
    "# pe[..., 1::2] = torch.cos(z * div_term)"
   ]
  },
  {
   "cell_type": "code",
   "execution_count": null,
   "metadata": {},
   "outputs": [],
   "source": []
  }
 ],
 "metadata": {
  "kernelspec": {
   "display_name": "Python 3 (ipykernel)",
   "language": "python",
   "name": "python3"
  },
  "language_info": {
   "codemirror_mode": {
    "name": "ipython",
    "version": 3
   },
   "file_extension": ".py",
   "mimetype": "text/x-python",
   "name": "python",
   "nbconvert_exporter": "python",
   "pygments_lexer": "ipython3",
   "version": "3.10.9"
  }
 },
 "nbformat": 4,
 "nbformat_minor": 2
}
