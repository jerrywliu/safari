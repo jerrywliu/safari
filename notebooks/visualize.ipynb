{
 "cells": [
  {
   "cell_type": "code",
   "execution_count": 2,
   "metadata": {},
   "outputs": [],
   "source": [
    "# General Setup\n",
    "import os\n",
    "import sys\n",
    "import copy\n",
    "import time\n",
    "\n",
    "from os.path import join\n",
    "\n",
    "# Local imports from outside notebook directory\n",
    "sys.path.insert(0, os.path.abspath('../'))  "
   ]
  },
  {
   "cell_type": "code",
   "execution_count": 3,
   "metadata": {},
   "outputs": [
    {
     "name": "stderr",
     "output_type": "stream",
     "text": [
      "/usr/project/xtmp/jwl50/safari/.pyenv/lib/python3.10/site-packages/tqdm/auto.py:21: TqdmWarning: IProgress not found. Please update jupyter and ipywidgets. See https://ipywidgets.readthedocs.io/en/stable/user_install.html\n",
      "  from .autonotebook import tqdm as notebook_tqdm\n"
     ]
    }
   ],
   "source": [
    "import numpy as np\n",
    "\n",
    "from PIL import Image\n",
    "import matplotlib.pyplot as plt\n",
    "\n",
    "import opt_einsum as oe\n",
    "from einops import rearrange, repeat\n",
    "\n",
    "import torch\n",
    "import torch.nn as nn\n",
    "import torch.nn.functional as F\n",
    "\n",
    "import torchvision\n",
    "import torchvision.transforms as transforms\n",
    "\n",
    "from torch.utils.data import Dataset, DataLoader\n",
    "\n",
    "from tqdm.auto import tqdm\n",
    "from omegaconf import OmegaConf"
   ]
  },
  {
   "cell_type": "code",
   "execution_count": 4,
   "metadata": {},
   "outputs": [],
   "source": [
    "from train import SequenceLightningModule\n",
    "import torch\n",
    "import matplotlib.pyplot as plt"
   ]
  },
  {
   "cell_type": "code",
   "execution_count": 5,
   "metadata": {},
   "outputs": [],
   "source": [
    "def plot_1d_burgers(data, path):\n",
    "    plt.plot(data)\n",
    "    if path:\n",
    "        plt.savefig(path)\n",
    "    plt.clf()\n",
    "\n",
    "def plot_1d_burgers2(x, y, pred, path):\n",
    "    fig, (ax1, ax2, ax3) = plt.subplots(1, 3, figsize=(12, 4))\n",
    "\n",
    "    # Plot data on each subplot\n",
    "    ax1.plot(x, label='x')\n",
    "    ax2.plot(y, label='y')\n",
    "    ax3.plot(pred, label='pred')\n",
    "\n",
    "    # Set titles and labels for each subplot\n",
    "    ax1.set_title('Initial condition (t=0)')\n",
    "    ax2.set_title('Soln at t=1')\n",
    "    ax3.set_title('Pred at t=1')\n",
    "    ax1.set_xlabel('x')\n",
    "    ax2.set_xlabel('x')\n",
    "    ax3.set_xlabel('x')\n",
    "    ax1.set_ylabel('u')\n",
    "    ax2.set_ylabel('u')\n",
    "    ax3.set_ylabel('u')\n",
    "\n",
    "    # Add legend to each subplot\n",
    "    ax1.legend()\n",
    "    ax2.legend()\n",
    "    ax3.legend()\n",
    "\n",
    "    if path:\n",
    "        plt.savefig(path)\n",
    "    plt.clf()"
   ]
  },
  {
   "cell_type": "code",
   "execution_count": 6,
   "metadata": {},
   "outputs": [],
   "source": [
    "from src.dataloaders.icl_pde import PDEDataModule"
   ]
  },
  {
   "cell_type": "code",
   "execution_count": 7,
   "metadata": {},
   "outputs": [],
   "source": [
    "data = PDEDataModule(\n",
    "    num_examples=8196,\n",
    "    num_test_examples=1024,\n",
    "    num_initial_conditions=20,\n",
    "    batch_size=16,\n",
    "    data_dir=\"/usr/xtmp/jwl50/PDEBench/data/\",\n",
    "    file_name=\"1D/Burgers/Train/1D_Burgers_Sols_Nu0.1.hdf5\",\n",
    "    pde=\"1d_burgers_icl_t2\"\n",
    ")"
   ]
  },
  {
   "cell_type": "code",
   "execution_count": null,
   "metadata": {},
   "outputs": [],
   "source": [
    "data.setup()"
   ]
  },
  {
   "cell_type": "code",
   "execution_count": null,
   "metadata": {},
   "outputs": [],
   "source": [
    "train_dataloader = data.train_dataloader()\n",
    "test_dataloader = data.test_dataloader()"
   ]
  },
  {
   "cell_type": "code",
   "execution_count": null,
   "metadata": {},
   "outputs": [],
   "source": []
  }
 ],
 "metadata": {
  "kernelspec": {
   "display_name": "Python 3 (ipykernel)",
   "language": "python",
   "name": "python3"
  },
  "language_info": {
   "codemirror_mode": {
    "name": "ipython",
    "version": 3
   },
   "file_extension": ".py",
   "mimetype": "text/x-python",
   "name": "python",
   "nbconvert_exporter": "python",
   "pygments_lexer": "ipython3",
   "version": "3.10.9"
  }
 },
 "nbformat": 4,
 "nbformat_minor": 2
}
